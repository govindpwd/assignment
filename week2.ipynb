{
 "cells": [
  {
   "cell_type": "markdown",
   "id": "9defb07d-ded2-4555-9668-64a8836361b4",
   "metadata": {},
   "source": [
    "Q1. How do you comment code in Python? What are the different types of comments?\n",
    "\n",
    "Comment can be made in two ways in python.\n",
    "a.single line comment  (using #)\n",
    "b.multi line comment (using '''multi line comment''')"
   ]
  },
  {
   "cell_type": "markdown",
   "id": "e9e26ec1-bdd2-4d7b-8430-3f670076050b",
   "metadata": {},
   "source": [
    "Q2. What are variables in Python? How do you declare and assign values to variables?\n",
    "\n",
    "variables are used to store values inside it. It can be single value or multiple value though different collection data types like list,tuple.\n",
    "In python there is no need to declare variable initially. The variable data type will be updated based on the assigned value."
   ]
  },
  {
   "cell_type": "markdown",
   "id": "8c455249-010c-41b6-8a7d-5a100fdc61dc",
   "metadata": {},
   "source": [
    "Q3. How do you convert one data type to another in Python?\n",
    "\n",
    "Using type casting data type can be converted but need to be concious while dealing with string type conversion as type conversion of string characters other than numbers to integers causes type conversion error.\n",
    "example: int('1')=1\n",
    "int(1.2)=1"
   ]
  },
  {
   "cell_type": "markdown",
   "id": "953ba870-b0de-4bb3-8715-c484bedc551d",
   "metadata": {},
   "source": [
    "Q4. How do you write and execute a Python script from the command line?\n",
    "\n",
    "To write and excute a python script from command line first python compiler need to be installed on to local machine. After installation need to enter \"python\" on cmd prompt then write the python script to execute.\n",
    "If existing python file needs to be executed type \"python filname.py\" in cmd prompt."
   ]
  },
  {
   "cell_type": "markdown",
   "id": "7927391c-dca2-467c-a3c4-8e3269b4a025",
   "metadata": {},
   "source": [
    "Q5. Given a list my_list = [1, 2, 3, 4, 5], write the code to slice the list and obtain the sub-list [2, 3].\n",
    "\n",
    "print(my_list[1:3])"
   ]
  },
  {
   "cell_type": "markdown",
   "id": "d7cc33bd-4745-46e6-ad50-6ba884d9e93e",
   "metadata": {},
   "source": [
    "Q6. What is a complex number in mathematics, and how is it represented in Python?\n",
    "\n",
    "Complex numbers contains both real and imaginary numbers and are represented in a+ib form in mathematics.\n",
    "In python complex numbers are represented as c=a+bj\n",
    "where 'a' is real number\n",
    "'b' is imaginary number."
   ]
  },
  {
   "cell_type": "markdown",
   "id": "6f417bb3-7a44-4abc-b2b5-b144e192df10",
   "metadata": {},
   "source": [
    "Q7. What is the correct way to declare a variable named age and assign the value 25 to it?\n",
    "\n",
    "age=25"
   ]
  },
  {
   "cell_type": "markdown",
   "id": "f5ae7e4c-ece9-4978-bc13-149862c92df5",
   "metadata": {},
   "source": [
    "Q8. Declare a variable named price and assign the value 9.99 to it. What data type does this variable belong to?\n",
    "\n",
    "price=9.99\n",
    "price variable belongs to float data type."
   ]
  },
  {
   "cell_type": "markdown",
   "id": "a0469a86-743f-4430-8828-67ccba1dc02d",
   "metadata": {},
   "source": [
    "Q9. Create a variable named name and assign your full name to it as a string. How would you print the value of this variable?\n",
    "\n",
    "name='govind'\n",
    "print(name)"
   ]
  },
  {
   "cell_type": "markdown",
   "id": "5482714a-b07a-48bd-b8a4-2d14e34bb52c",
   "metadata": {},
   "source": [
    "Q10. Given the string \"Hello, World!\", extract the substring \"World\".\n",
    "\n",
    "s=\"Hello, World!\"\n",
    "print(s[7:12])"
   ]
  },
  {
   "cell_type": "markdown",
   "id": "4eef5e31-765b-443b-ace5-3308744ced02",
   "metadata": {},
   "source": [
    "Q11. Create a variable named \"is_student\" and assign it a boolean value indicating whether you are currently a student or not.\n",
    "\n",
    "is_student=False"
   ]
  }
 ],
 "metadata": {
  "kernelspec": {
   "display_name": "Python 3 (ipykernel)",
   "language": "python",
   "name": "python3"
  },
  "language_info": {
   "codemirror_mode": {
    "name": "ipython",
    "version": 3
   },
   "file_extension": ".py",
   "mimetype": "text/x-python",
   "name": "python",
   "nbconvert_exporter": "python",
   "pygments_lexer": "ipython3",
   "version": "3.10.8"
  }
 },
 "nbformat": 4,
 "nbformat_minor": 5
}
