{
 "cells": [
  {
   "cell_type": "code",
   "execution_count": 5,
   "id": "002d7f8f-aa98-4231-a87e-4e1c79c43fe6",
   "metadata": {},
   "outputs": [
    {
     "name": "stdout",
     "output_type": "stream",
     "text": [
      "<class 'str'>\n",
      "<class 'list'>\n",
      "<class 'float'>\n",
      "<class 'tuple'>\n"
     ]
    }
   ],
   "source": [
    "'''Q1. Create one variable containing following type of data:\n",
    "(i) string\n",
    "(ii) list\n",
    "(iii) float\n",
    "(iv) tuple'''\n",
    "\n",
    "a='week1'\n",
    "type(a)\n",
    "b=[1,2,3]\n",
    "type(b)\n",
    "c=101.51\n",
    "type(c)\n",
    "d=(1,2,3)\n",
    "type(d)\n",
    "\n",
    "#we can store all types of data in list itself\n",
    "l=['week1',[1,2,3],101.51,(1,2,3)]\n",
    "for i in l:\n",
    "    print(type(i))"
   ]
  },
  {
   "cell_type": "raw",
   "id": "989f3832-7426-41ae-98c3-7a79af8fbffd",
   "metadata": {},
   "source": [
    "'''Q2. Given are some following variables containing data:\n",
    "(i) var1 = ‘ ‘\n",
    "(ii) var2 = ‘[ DS , ML , Python]’\n",
    "(iii) var3 = [ ‘DS’ , ’ML’ , ‘Python’ ]\n",
    "(iv) var4 = 1.\n",
    "What will be the data type of the above given variable.'''\n",
    "\n",
    "i. str\n",
    "ii. str\n",
    "iii. list\n",
    "iv. int"
   ]
  },
  {
   "cell_type": "raw",
   "id": "8c3f64fd-cc3f-4311-bf08-6d84731fc6da",
   "metadata": {},
   "source": [
    "'''Q3. Explain the use of the following operators using an example:\n",
    "(i) /\n",
    "(ii) %\n",
    "(iii) //\n",
    "(iv) ** '''\n",
    "\n",
    "i. '/' it is divison operator it performs division operation and gives quotioent\n",
    "    example : 5/2 = 2.5\n",
    "  \n",
    "ii. '%' it is modulo operator it will give reminder\n",
    "    example : 5%2 = 1\n",
    "    \n",
    "iii. '//' it is floor division or truncate divion it will give floor value of the quotient\n",
    "    example: 5//2 = 2\n",
    "    \n",
    "iv. '**' it is power operator \n",
    "    example: 5**2 = 25"
   ]
  },
  {
   "cell_type": "code",
   "execution_count": 15,
   "id": "7fc77798-3182-4c18-b643-bb4e1b565652",
   "metadata": {},
   "outputs": [
    {
     "name": "stdout",
     "output_type": "stream",
     "text": [
      "element is 1 type of element is <class 'int'>\n",
      "element is 2 type of element is <class 'int'>\n",
      "element is 3.0 type of element is <class 'float'>\n",
      "element is [4, 5] type of element is <class 'list'>\n",
      "element is six type of element is <class 'str'>\n",
      "element is seven type of element is <class 'str'>\n",
      "element is (8, 9) type of element is <class 'tuple'>\n",
      "element is True type of element is <class 'bool'>\n",
      "element is False type of element is <class 'bool'>\n",
      "element is 10 type of element is <class 'int'>\n"
     ]
    }
   ],
   "source": [
    "'''Q4. Create a list of length 10 of your choice containing multiple types of data. Using for loop print the\n",
    "element and its data type.'''\n",
    "l=[1,2,3.0,[4,5],'six','seven',(8,9),True,False,10]\n",
    "for i in l:\n",
    "    print('element is',i,'type of element is',type(i))"
   ]
  },
  {
   "cell_type": "code",
   "execution_count": 14,
   "id": "6667a509-a19e-4532-8118-4cd9ad376e88",
   "metadata": {},
   "outputs": [
    {
     "name": "stdout",
     "output_type": "stream",
     "text": [
      "for b= 1 it can divide 100 in 100 times\n",
      "for b= 2 it can divide 100 in 50 times\n",
      "for b= 4 it can divide 100 in 25 times\n",
      "for b= 5 it can divide 100 in 20 times\n",
      "for b= 10 it can divide 100 in 10 times\n"
     ]
    }
   ],
   "source": [
    "'''Q5. Using a while loop, verify if the number A is purely divisible by number B and if so then how many\n",
    "times it can be divisible.'''\n",
    "\n",
    "''' for this example consider a=100 and b=10'''\n",
    "a=100\n",
    "b=10\n",
    "i=1\n",
    "count=0\n",
    "while i<=b:\n",
    "    if a%i==0:\n",
    "        print('for b=',i,'it can divide',a,'in',a//i,'times')\n",
    "    i+=1"
   ]
  },
  {
   "cell_type": "code",
   "execution_count": 16,
   "id": "60a5c881-da65-42e9-b752-7820c9af6888",
   "metadata": {},
   "outputs": [
    {
     "name": "stdout",
     "output_type": "stream",
     "text": [
      "1 is not divisible by 3\n",
      "2 is not divisible by 3\n",
      "3 is divisible by 3\n",
      "4 is not divisible by 3\n",
      "5 is not divisible by 3\n",
      "6 is divisible by 3\n",
      "7 is not divisible by 3\n",
      "8 is not divisible by 3\n",
      "9 is divisible by 3\n",
      "10 is not divisible by 3\n",
      "11 is not divisible by 3\n",
      "12 is divisible by 3\n",
      "13 is not divisible by 3\n",
      "14 is not divisible by 3\n",
      "15 is divisible by 3\n",
      "16 is not divisible by 3\n",
      "17 is not divisible by 3\n",
      "18 is divisible by 3\n",
      "19 is not divisible by 3\n",
      "20 is not divisible by 3\n",
      "21 is divisible by 3\n",
      "22 is not divisible by 3\n",
      "23 is not divisible by 3\n",
      "24 is divisible by 3\n",
      "25 is not divisible by 3\n"
     ]
    }
   ],
   "source": [
    "'''Q6. Create a list containing 25 int type data. Using for loop and if-else condition print if the element is\n",
    "divisible by 3 or not.'''\n",
    "l=list(range(1,26))\n",
    "for i in l:\n",
    "    if i%3==0:\n",
    "        print(i,'is divisible by 3')\n",
    "    else:\n",
    "        print(i,'is not divisible by 3')"
   ]
  },
  {
   "cell_type": "raw",
   "id": "a67c8f65-77a0-4ca9-abda-218419451553",
   "metadata": {},
   "source": [
    "'''Q7. What do you understand about mutable and immutable data types? Give examples for both showing\n",
    "this property.'''\n",
    "\n",
    "Mutable: If the value assigned to the object that can be modofied at a particular index then it is mutable.\n",
    "    Example: coniser list l=[1,2,3]"
   ]
  },
  {
   "cell_type": "code",
   "execution_count": 17,
   "id": "98c25590-802f-4dbc-a865-574503c1d891",
   "metadata": {},
   "outputs": [
    {
     "name": "stdout",
     "output_type": "stream",
     "text": [
      "[1, 2, 4]\n"
     ]
    }
   ],
   "source": [
    "l=[1,2,3]\n",
    "l[2]=4  #Here value in list l at index 2 is updated to 4\n",
    "print(l) # l is updated so list is mutable"
   ]
  },
  {
   "cell_type": "raw",
   "id": "68e2a1a3-cc8f-4bbb-b198-80076f949cea",
   "metadata": {},
   "source": [
    "some other examples of mutable data type are set,dictionary."
   ]
  },
  {
   "cell_type": "raw",
   "id": "3b7a6b7f-17fa-44f1-912f-ff4c7905568d",
   "metadata": {},
   "source": [
    "immutable: If the value that is assigned to variable that cannot be modified at a particular index it is immutable\n",
    "    Example: String,Tupple"
   ]
  },
  {
   "cell_type": "code",
   "execution_count": 22,
   "id": "7aaf041a-5dd3-44cf-a257-c436efce7641",
   "metadata": {},
   "outputs": [
    {
     "ename": "TypeError",
     "evalue": "'str' object does not support item assignment",
     "output_type": "error",
     "traceback": [
      "\u001b[0;31m---------------------------------------------------------------------------\u001b[0m",
      "\u001b[0;31mTypeError\u001b[0m                                 Traceback (most recent call last)",
      "Cell \u001b[0;32mIn[22], line 2\u001b[0m\n\u001b[1;32m      1\u001b[0m s\u001b[38;5;241m=\u001b[39m\u001b[38;5;124m'\u001b[39m\u001b[38;5;124mweek1\u001b[39m\u001b[38;5;124m'\u001b[39m\n\u001b[0;32m----> 2\u001b[0m \u001b[43ms\u001b[49m\u001b[43m[\u001b[49m\u001b[38;5;241;43m-\u001b[39;49m\u001b[38;5;241;43m1\u001b[39;49m\u001b[43m]\u001b[49m\u001b[38;5;241m=\u001b[39m\u001b[38;5;241m2\u001b[39m \u001b[38;5;66;03m#if tried to modify string it will show error\u001b[39;00m\n",
      "\u001b[0;31mTypeError\u001b[0m: 'str' object does not support item assignment"
     ]
    }
   ],
   "source": [
    "s='week1'\n",
    "s[-1]=2 #if tried to modify string it will show error as string is immutable data type"
   ]
  },
  {
   "cell_type": "code",
   "execution_count": 21,
   "id": "881138b7-c5bc-4348-b75d-8ae1b54a824c",
   "metadata": {},
   "outputs": [
    {
     "name": "stdout",
     "output_type": "stream",
     "text": [
      "week2\n"
     ]
    }
   ],
   "source": [
    "#instead of updating the part of assigned value completely reassign value to string.\n",
    "s='week2'\n",
    "print(s)"
   ]
  }
 ],
 "metadata": {
  "kernelspec": {
   "display_name": "Python 3 (ipykernel)",
   "language": "python",
   "name": "python3"
  },
  "language_info": {
   "codemirror_mode": {
    "name": "ipython",
    "version": 3
   },
   "file_extension": ".py",
   "mimetype": "text/x-python",
   "name": "python",
   "nbconvert_exporter": "python",
   "pygments_lexer": "ipython3",
   "version": "3.10.8"
  }
 },
 "nbformat": 4,
 "nbformat_minor": 5
}
